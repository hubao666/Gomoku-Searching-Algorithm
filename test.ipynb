{
 "cells": [
  {
   "cell_type": "markdown",
   "metadata": {},
   "source": [
    "# I use this file to test the function"
   ]
  },
  {
   "cell_type": "code",
   "execution_count": 2,
   "metadata": {},
   "outputs": [],
   "source": [
    "from graphics import * \n",
    "import numpy as np\n",
    "\n",
    "BOX_WIDTH = 50\n",
    "NUM_COLUMN = 15\n",
    "NUM_ROW = 15\n",
    "CHESS_RADIUS = 20\n",
    "CONNECT_N = 5"
   ]
  },
  {
   "cell_type": "code",
   "execution_count": 24,
   "metadata": {},
   "outputs": [
    {
     "data": {
      "text/plain": [
       "array([[0, 0, 0, 0, 0, 0, 0, 0, 0, 0, 0, 0, 0, 0, 0],\n",
       "       [1, 1, 1, 1, 1, 0, 0, 0, 0, 0, 0, 0, 0, 0, 0],\n",
       "       [0, 0, 0, 0, 0, 0, 0, 0, 0, 0, 0, 0, 0, 0, 0],\n",
       "       [0, 0, 0, 0, 0, 0, 0, 0, 0, 0, 0, 0, 0, 0, 0],\n",
       "       [0, 0, 0, 0, 0, 0, 0, 0, 0, 0, 0, 0, 0, 0, 0],\n",
       "       [0, 0, 0, 0, 0, 0, 0, 0, 0, 0, 0, 0, 0, 0, 0],\n",
       "       [0, 0, 0, 0, 0, 0, 0, 0, 0, 0, 0, 0, 0, 0, 0],\n",
       "       [0, 0, 0, 0, 0, 0, 0, 0, 0, 0, 0, 0, 0, 0, 0],\n",
       "       [0, 0, 0, 0, 0, 0, 0, 0, 0, 0, 0, 0, 0, 0, 0],\n",
       "       [0, 0, 0, 0, 0, 0, 0, 0, 0, 0, 0, 0, 0, 0, 0],\n",
       "       [0, 0, 0, 0, 0, 0, 0, 0, 0, 0, 0, 0, 0, 0, 0],\n",
       "       [0, 0, 0, 0, 0, 0, 0, 0, 0, 0, 0, 0, 0, 0, 0],\n",
       "       [0, 0, 0, 0, 0, 0, 0, 0, 0, 0, 0, 0, 0, 0, 0],\n",
       "       [0, 0, 0, 0, 0, 0, 0, 0, 0, 0, 0, 0, 0, 0, 0],\n",
       "       [0, 0, 0, 0, 0, 0, 0, 0, 0, 0, 0, 0, 0, 0, 0]])"
      ]
     },
     "execution_count": 24,
     "metadata": {},
     "output_type": "execute_result"
    }
   ],
   "source": [
    "matrix = np.zeros((NUM_ROW, NUM_COLUMN), dtype=int)\n",
    "list = [[1,0],[1,1], [1,2], [1,3],[1,4]]\n",
    "\n",
    "for row, col in list:\n",
    "    matrix[row, col] = 1\n",
    "matrix"
   ]
  },
  {
   "cell_type": "code",
   "execution_count": 26,
   "metadata": {},
   "outputs": [
    {
     "data": {
      "text/plain": [
       "array([[0, 1, 0, 0, 0, 0, 0, 0, 0, 0, 0, 0, 0, 0, 0],\n",
       "       [0, 1, 0, 0, 0, 0, 0, 0, 0, 0, 0, 0, 0, 0, 0],\n",
       "       [0, 1, 0, 0, 0, 0, 0, 0, 0, 0, 0, 0, 0, 0, 0],\n",
       "       [0, 1, 0, 0, 0, 0, 0, 0, 0, 0, 0, 0, 0, 0, 0],\n",
       "       [0, 1, 0, 0, 0, 0, 0, 0, 0, 0, 0, 0, 0, 0, 0],\n",
       "       [0, 0, 0, 0, 0, 0, 0, 0, 0, 0, 0, 0, 0, 0, 0],\n",
       "       [0, 0, 0, 0, 0, 0, 0, 0, 0, 0, 0, 0, 0, 0, 0],\n",
       "       [0, 0, 0, 0, 0, 0, 0, 0, 0, 0, 0, 0, 0, 0, 0],\n",
       "       [0, 0, 0, 0, 0, 0, 0, 0, 0, 0, 0, 0, 0, 0, 0],\n",
       "       [0, 0, 0, 0, 0, 0, 0, 0, 0, 0, 0, 0, 0, 0, 0],\n",
       "       [0, 0, 0, 0, 0, 0, 0, 0, 0, 0, 0, 0, 0, 0, 0],\n",
       "       [0, 0, 0, 0, 0, 0, 0, 0, 0, 0, 0, 0, 0, 0, 0],\n",
       "       [0, 0, 0, 0, 0, 0, 0, 0, 0, 0, 0, 0, 0, 0, 0],\n",
       "       [0, 0, 0, 0, 0, 0, 0, 0, 0, 0, 0, 0, 0, 0, 0],\n",
       "       [0, 0, 0, 0, 0, 0, 0, 0, 0, 0, 0, 0, 0, 0, 0]])"
      ]
     },
     "execution_count": 26,
     "metadata": {},
     "output_type": "execute_result"
    }
   ],
   "source": [
    "matrix.T"
   ]
  },
  {
   "cell_type": "code",
   "execution_count": 22,
   "metadata": {},
   "outputs": [],
   "source": [
    "weights = np.array([2**i for i in range(NUM_ROW)])\n",
    "win_values = [sum(weights[i:i+CONNECT_N]) for i in range(len(weights) - CONNECT_N + 1)]"
   ]
  },
  {
   "cell_type": "code",
   "execution_count": 18,
   "metadata": {},
   "outputs": [
    {
     "data": {
      "text/plain": [
       "array([    1,     2,     4,     8,    16,    32,    64,   128,   256,\n",
       "         512,  1024,  2048,  4096,  8192, 16384])"
      ]
     },
     "execution_count": 18,
     "metadata": {},
     "output_type": "execute_result"
    }
   ],
   "source": [
    "weights"
   ]
  },
  {
   "cell_type": "code",
   "execution_count": 19,
   "metadata": {},
   "outputs": [
    {
     "data": {
      "text/plain": [
       "[31, 62, 124, 248, 496, 992, 1984, 3968, 7936, 15872, 31744]"
      ]
     },
     "execution_count": 19,
     "metadata": {},
     "output_type": "execute_result"
    }
   ],
   "source": [
    "win_values"
   ]
  },
  {
   "cell_type": "code",
   "execution_count": 31,
   "metadata": {},
   "outputs": [],
   "source": [
    "matrix_result = np.dot(matrix, weights)"
   ]
  },
  {
   "cell_type": "code",
   "execution_count": 32,
   "metadata": {},
   "outputs": [
    {
     "name": "stdout",
     "output_type": "stream",
     "text": [
      "YES\n"
     ]
    }
   ],
   "source": [
    "if any(value in win_values for value in matrix_result):\n",
    "    print(\"YES\")"
   ]
  },
  {
   "cell_type": "code",
   "execution_count": 2,
   "metadata": {},
   "outputs": [
    {
     "name": "stdout",
     "output_type": "stream",
     "text": [
      "Rotated Diagonal Matrix:\n",
      "[[ 0  0  0 13  0  0  0]\n",
      " [ 0  0  9 14  0  0  0]\n",
      " [ 0  0  5 10 15  0  0]\n",
      " [ 0  1  6 11 16  0  0]\n",
      " [ 0  0  2  7 12  0  0]\n",
      " [ 0  0  3  8  0  0  0]\n",
      " [ 0  0  0  4  0  0  0]\n",
      " [ 0  0  0 16  0  0  0]\n",
      " [ 0  0 12 15  0  0  0]\n",
      " [ 0  0  8 11 14  0  0]\n",
      " [ 0  4  7 10 13  0  0]\n",
      " [ 0  0  3  6  9  0  0]\n",
      " [ 0  0  2  5  0  0  0]\n",
      " [ 0  0  0  1  0  0  0]]\n"
     ]
    }
   ],
   "source": [
    "import numpy as np\n",
    "\n",
    "def rotateMatrix(matrix):\n",
    "    n = matrix.shape[0] \n",
    "    max_length = 2 * n - 1  \n",
    "    diagonal_matrix = []\n",
    "\n",
    "    for offset in range(-n + 1, n):\n",
    "        diag = matrix.diagonal(offset=offset)\n",
    "        padding = [0] * (max_length - len(diag))\n",
    "        padded_diag = padding[:len(padding)//2] + list(diag) + padding[len(padding)//2:]\n",
    "        diagonal_matrix.append(padded_diag)\n",
    "\n",
    "\n",
    "    for offset in range(-n + 1, n):\n",
    "        diag = np.fliplr(matrix).diagonal(offset=offset)\n",
    "        padding = [0] * (max_length - len(diag))\n",
    "        padded_diag = padding[:len(padding)//2] + list(diag) + padding[len(padding)//2:]\n",
    "        diagonal_matrix.append(padded_diag)\n",
    "\n",
    "    return np.array(diagonal_matrix)\n",
    "\n",
    "matrix = np.array([\n",
    "    [1, 2, 3, 4],\n",
    "    [5, 6, 7, 8],\n",
    "    [9, 10, 11, 12],\n",
    "    [13, 14, 15, 16]\n",
    "])\n",
    "\n",
    "rotated_diagonals = rotateMatrix(matrix)\n",
    "print(\"Rotated Diagonal Matrix:\")\n",
    "print(rotated_diagonals)\n"
   ]
  },
  {
   "cell_type": "code",
   "execution_count": 1,
   "metadata": {},
   "outputs": [],
   "source": [
    "a = [1,2,3,4,7]"
   ]
  },
  {
   "cell_type": "code",
   "execution_count": 2,
   "metadata": {},
   "outputs": [],
   "source": [
    "a.append(3)"
   ]
  },
  {
   "cell_type": "code",
   "execution_count": 3,
   "metadata": {},
   "outputs": [
    {
     "data": {
      "text/plain": [
       "3"
      ]
     },
     "execution_count": 3,
     "metadata": {},
     "output_type": "execute_result"
    }
   ],
   "source": [
    "a[-1]"
   ]
  },
  {
   "cell_type": "code",
   "execution_count": 4,
   "metadata": {},
   "outputs": [],
   "source": [
    "import numpy as np\n",
    "board_rows = 15  \n",
    "board_cols = 15\n",
    "\n",
    "directions = [\n",
    "        (1, 0), ## check from (0,3) to (0,4), (3,5)\n",
    "        (0, 1), ## check from \n",
    "        (1, 1), ## check from (3,3) to (4,4), (5,5)\n",
    "        (1, -1) ## check from (3,3) to (2,4), (3,5)\n",
    "    ]\n",
    "\n",
    "my_list = [(1,4),(0,2), (4,1)]\n",
    "m = my_list[1][0]\n",
    "n = my_list[1][1]\n",
    "enemy_list =  []"
   ]
  },
  {
   "cell_type": "code",
   "execution_count": 6,
   "metadata": {},
   "outputs": [],
   "source": [
    "eval_score = {\n",
    "    (0,0,0,1,0,0): 20,\n",
    "    (0,0,1,0,0,0): 20,\n",
    "    (0,0,1,0,1,0): 120,\n",
    "    (0,1,0,1,0,0): 120,\n",
    "    (0,0,1,1,0,0): 120,\n",
    "    (1,1,1,0,1): 720,\n",
    "    (1,0,1,1,1): 720,\n",
    "    (1,1,0,1,1): 720,\n",
    "    (0,1,1,1,1): 720,\n",
    "    (1,1,1,1,0): 720,\n",
    "    (0,1,0,1,1,0): 720,\n",
    "    (0,1,1,0,1,0): 720,\n",
    "    (0,0,1,1,1,0): 720,\n",
    "    (0,1,1,1,0,0): 720, \n",
    "    (0,1,1,1,1,0): 4320,\n",
    "    (1,1,1,1,1): 50000\n",
    "}"
   ]
  },
  {
   "cell_type": "code",
   "execution_count": 10,
   "metadata": {},
   "outputs": [
    {
     "name": "stdout",
     "output_type": "stream",
     "text": [
      "Max score in direction (1, 0): 20\n",
      "Max shape in direction (1, 0): (0, 0, 0, 1, 0, 0)\n",
      "[(0, 0, 0, 0, 0, 1), (0, 0, 0, 0, 1, 0), (0, 0, 0, 1, 0, 0), (0, 0, 1, 0, 0, 0), (0, 1, 0, 0, 0, 0), (1, 0, 0, 0, 0, 0)]\n",
      "Max score in direction (0, 1): 120\n",
      "Max shape in direction (0, 1): (0, 0, 1, 1, 0, 0)\n",
      "[(0, 0, 0, 0, 1, 1), (0, 0, 0, 1, 1, 0), (0, 0, 1, 1, 0, 0), (0, 1, 1, 0, 0, 0), (1, 1, 0, 0, 0, 0), (1, 0, 0, 0, 0, 0)]\n",
      "Max score in direction (1, 1): 20\n",
      "Max shape in direction (1, 1): (0, 0, 0, 1, 0, 0)\n",
      "[(0, 0, 0, 0, 0, 1), (0, 0, 0, 0, 1, 0), (0, 0, 0, 1, 0, 0), (0, 0, 1, 0, 0, 0), (0, 1, 0, 0, 0, 0), (1, 0, 0, 0, 0, 0)]\n",
      "Max score in direction (1, -1): 20\n",
      "Max shape in direction (1, -1): (0, 0, 0, 1, 0, 0)\n",
      "[(0, 0, 0, 0, 0, 1), (0, 0, 0, 0, 1, 0), (0, 0, 0, 1, 0, 0), (0, 0, 1, 0, 0, 0), (0, 1, 0, 0, 0, 0), (1, 0, 0, 0, 0, 0)]\n",
      "current score at this point: 180\n"
     ]
    }
   ],
   "source": [
    "\n",
    "my_list = [(5,5), (5,6)]\n",
    "enemy_list = []\n",
    "m = my_list[1][0]\n",
    "n = my_list[1][1]\n",
    "\n",
    "out_of_board_positions = ([(i, -1) for i in range(-1, 16)] + \n",
    "                          [(-1, i) for i in range(-1, 16)] +\n",
    "                          [(i, 16) for i in range(-1, 16)] +\n",
    "                          [(16, i) for i in range(-1, 16)])\n",
    "\n",
    "cur_score = 0\n",
    "cur_shape = ()\n",
    "for x_directions, y_directions in directions:    \n",
    "    matrix_fiv = []\n",
    "    matrix_six = []\n",
    "    \n",
    "    max_score = 0           ## max score in one direction\n",
    "    new_shape = ()          ## new shape for max score\n",
    "    for offset in range(-5, 1):\n",
    "        pos = []\n",
    "        \n",
    "        for i in range(0, 6):\n",
    "            row = m + (i + offset) * x_directions\n",
    "            col = n + (i + offset) * y_directions\n",
    "            current_position = (row, col)\n",
    "            # 检查当前计算的行和列是否在棋盘范围内\n",
    "            if current_position in out_of_board_positions:    \n",
    "                pos.append(-1)\n",
    "            else:\n",
    "                if current_position in enemy_list:\n",
    "                    pos.append(2)\n",
    "                elif current_position in my_list:\n",
    "                    pos.append(1)\n",
    "                else:\n",
    "                    pos.append(0)\n",
    "            \n",
    "        check_fiv = (pos[0], pos[1], pos[2], pos[3], pos[4])\n",
    "        check_six = (pos[0], pos[1], pos[2], pos[3], pos[4], pos[5])\n",
    "        matrix_fiv.append(check_fiv)\n",
    "        matrix_six.append(check_six)\n",
    "        \n",
    "        \n",
    "        for shape in eval_score:\n",
    "            \n",
    "            score = eval_score[shape]\n",
    "            for i in range(len(matrix_fiv)):\n",
    "                if i < len(matrix_six):\n",
    "                    if matrix_fiv[i] == shape or matrix_six[i] == shape:         \n",
    "                        if score > max_score:\n",
    "                            max_score = score\n",
    "                            new_shape = shape\n",
    "                else:\n",
    "                    if matrix_fiv[i] == shape:\n",
    "                        if score > max_score:\n",
    "                            max_score = score  \n",
    "                            new_shape = shape\n",
    "                            \n",
    "    ## calculate if two shape intersect at one point\n",
    "    ## than add the score together\n",
    "    print(f\"Max score in direction {x_directions, y_directions}: {max_score}\")\n",
    "    print(f\"Max shape in direction {x_directions, y_directions}: {new_shape}\")\n",
    "    if max_score != 0:\n",
    "        cur_score = max_score + cur_score\n",
    "            \n",
    "    \n",
    "    print(matrix_six)\n",
    "\n",
    "print(f\"current score at this point: {cur_score}\")"
   ]
  },
  {
   "cell_type": "code",
   "execution_count": 8,
   "metadata": {},
   "outputs": [],
   "source": [
    "## list 1 = my list\n",
    "def find_score(list1, list2):\n",
    "    directions = [\n",
    "        (1, 0), ## check from (0,3) to (0,4), (3,5)\n",
    "        (0, 1), ## check from \n",
    "        (1, 1), ## check from (3,3) to (4,4), (5,5)\n",
    "        (1, -1) ## check from (3,3) to (2,4), (3,5)\n",
    "    ]\n",
    "\n",
    "    total_score = 0             ## total score in the whole list\n",
    "\n",
    "    out_of_board_positions = ([(i, -1) for i in range(-1, 16)] + \n",
    "                                    [(-1, i) for i in range(-1, 16)] +\n",
    "                                    [(i, 16) for i in range(-1, 16)] +\n",
    "                                    [(16, i) for i in range(-1, 16)])\n",
    "    check_exist = []\n",
    "    for point in list1:\n",
    "        m = point[0]\n",
    "        n = point[1]\n",
    "        cur_score = 0           ## score at one point in 4 directions\n",
    "        already_scored = []\n",
    "        score_shape = (0, None)\n",
    "        for x_directions, y_directions in directions: \n",
    "            ## check if this shape is duplicate\n",
    "            ## eg. [(2,3), (2,4)]\n",
    "            ## (2,3) will have [(2,1), (2,2), (2,3), (2,4), (2,5), (2,6)], which is (0,0,1,1,0,0)\n",
    "            ## (2,4) will also iterate the above\n",
    "            ## so there is a duplicate\n",
    "            \n",
    "            is_duplicate = False\n",
    "            \n",
    "            for item in check_exist:\n",
    "                for pt in item[2]:\n",
    "                    if m == pt[0] and n == pt[1] and x_directions == item[0][0] and y_directions == item[0][1]:\n",
    "                        is_duplicate = True\n",
    "                        break\n",
    "                if is_duplicate:\n",
    "                    break\n",
    "            if is_duplicate:\n",
    "                continue        \n",
    "                \n",
    "            matrix_fiv = []\n",
    "            matrix_six = []\n",
    "            \n",
    "            max_score = 0           ## score at one point in one direction\n",
    "            new_shape = []          ## new shape for max score\n",
    "            \n",
    "\n",
    "            \n",
    "            \n",
    "            ## consider point = (2,3) in direction (1,0)\n",
    "            ## ① [(2,-2), (2,-1), (2,0), (2,1), (2,2), (2,3)] => (-1,-1,0,0,0,1)\n",
    "            ## ② [(2,-1), (2,0), (2,1), (2,2), (2,3), (2,4)]  => (-1,0,0,0,1,0)\n",
    "            ## ③ [(2,0), (2,1), (2,2), (2,3), (2,4), (2,5)]   => (0,0,0,1,0,0)\n",
    "            ## ④ [(2,1), (2,2), (2,3), (2,4), (2,5), (2,6)]   => (0,0,1,0,0,0)\n",
    "            ## ⑤ [(2,2), (2,3), (2,4), (2,5), (2,6), (2,7)]   => (0,1,0,0,0,0)\n",
    "            ## ⑥ [(2,3), (2,4), (2,5), (2,6), (2,8), (2,9)]   => (1,0,0,0,0,0)\n",
    "            ## in this case, ③ and ④ score 20 each\n",
    "            ## but we only take the max at one direction which is 20\n",
    "            for offset in range(-5, 1):\n",
    "                check = []\n",
    "                matrix_pos = []\n",
    "                for i in range(0, 6):\n",
    "                    row = m + (i + offset) * x_directions\n",
    "                    col = n + (i + offset) * y_directions                    \n",
    "                    current_position = (row, col)\n",
    "                    \n",
    "                    ## if out of board, append -1\n",
    "                    if current_position in out_of_board_positions:    \n",
    "                        check.append(-1)\n",
    "                    else:\n",
    "                        if current_position in list2:\n",
    "                            check.append(2)\n",
    "                        elif current_position in list1:\n",
    "                            check.append(1)\n",
    "                        else:\n",
    "                            check.append(0)\n",
    "                    matrix_pos.append(current_position)\n",
    "                iteration = (matrix_pos[0], matrix_pos[1], matrix_pos[2], matrix_pos[3], matrix_pos[4], matrix_pos[5])\n",
    "\n",
    "                ## put them in a tuple\n",
    "                check_fiv = (check[0], check[1], check[2], check[3], check[4])\n",
    "                check_six = (check[0], check[1], check[2], check[3], check[4], check[5])\n",
    "                \n",
    "                ## put them into a matrix\n",
    "                matrix_fiv.append(check_fiv)\n",
    "                matrix_six.append(check_six)\n",
    "                for shape in eval_score:\n",
    "                    \n",
    "                    score = eval_score[shape]\n",
    "                    for i in range(len(matrix_fiv)):\n",
    "                        if i < len(matrix_six):\n",
    "                            if matrix_fiv[i] == shape or matrix_six[i] == shape:         \n",
    "                                if score > max_score:\n",
    "                                    max_score = score\n",
    "                                    new_shape.append(shape)\n",
    "                                    \n",
    "                                    score_shape = ((x_directions, y_directions), score, iteration)\n",
    "                        else:\n",
    "                            if matrix_fiv[i] == shape:\n",
    "                                if score > max_score:\n",
    "                                    max_score = score  \n",
    "                                    new_shape.append(shape)      \n",
    "                                    score_shape = ((x_directions, y_directions), score, iteration)\n",
    "            ## calculate if two shape intersect at one point\n",
    "            ## than add the score together\n",
    "            print(f\"Max score in direction {x_directions, y_directions}: {max_score}\")\n",
    "            ## print(f\"Max shape in direction {x_directions, y_directions}: {new_shape}\")\n",
    "            if max_score != 0:\n",
    "                cur_score = max_score + cur_score\n",
    "                ## print(score_shape)        \n",
    "                check_exist.append(score_shape)\n",
    "            ## print(matrix_six)\n",
    "        print(check_exist)\n",
    "        print(f\"current score at this point {point}: {cur_score}\")\n",
    "            \n",
    "        total_score = total_score + cur_score\n",
    "    print(total_score)\n",
    "    return total_score"
   ]
  },
  {
   "cell_type": "code",
   "execution_count": 9,
   "metadata": {},
   "outputs": [
    {
     "name": "stdout",
     "output_type": "stream",
     "text": [
      "Max score in direction (1, 0): 20\n",
      "Max score in direction (0, 1): 120\n",
      "Max score in direction (1, 1): 20\n",
      "Max score in direction (1, -1): 20\n",
      "[((1, 0), 20, ((2, 5), (3, 5), (4, 5), (5, 5), (6, 5), (7, 5))), ((0, 1), 120, ((5, 3), (5, 4), (5, 5), (5, 6), (5, 7), (5, 8))), ((1, 1), 20, ((2, 2), (3, 3), (4, 4), (5, 5), (6, 6), (7, 7))), ((1, -1), 20, ((2, 8), (3, 7), (4, 6), (5, 5), (6, 4), (7, 3)))]\n",
      "current score at this point (5, 5): 180\n",
      "Max score in direction (1, 0): 20\n",
      "Max score in direction (1, 1): 20\n",
      "Max score in direction (1, -1): 20\n",
      "[((1, 0), 20, ((2, 5), (3, 5), (4, 5), (5, 5), (6, 5), (7, 5))), ((0, 1), 120, ((5, 3), (5, 4), (5, 5), (5, 6), (5, 7), (5, 8))), ((1, 1), 20, ((2, 2), (3, 3), (4, 4), (5, 5), (6, 6), (7, 7))), ((1, -1), 20, ((2, 8), (3, 7), (4, 6), (5, 5), (6, 4), (7, 3))), ((1, 0), 20, ((2, 6), (3, 6), (4, 6), (5, 6), (6, 6), (7, 6))), ((1, 1), 20, ((2, 3), (3, 4), (4, 5), (5, 6), (6, 7), (7, 8))), ((1, -1), 20, ((2, 9), (3, 8), (4, 7), (5, 6), (6, 5), (7, 4)))]\n",
      "current score at this point (5, 6): 60\n",
      "240\n"
     ]
    }
   ],
   "source": [
    "my_list = [(5,5), (5,6)]\n",
    "enemy_list = []\n",
    "\n",
    "find_score(my_list, enemy_list)"
   ]
  }
 ],
 "metadata": {
  "kernelspec": {
   "display_name": "base",
   "language": "python",
   "name": "python3"
  },
  "language_info": {
   "codemirror_mode": {
    "name": "ipython",
    "version": 3
   },
   "file_extension": ".py",
   "mimetype": "text/x-python",
   "name": "python",
   "nbconvert_exporter": "python",
   "pygments_lexer": "ipython3",
   "version": "3.11.5"
  }
 },
 "nbformat": 4,
 "nbformat_minor": 2
}
